{
 "cells": [
  {
   "cell_type": "code",
   "execution_count": 20,
   "metadata": {},
   "outputs": [],
   "source": [
    "import tensorflow as tf\n",
    "from tensorflow.keras import layers, models\n",
    "from keras.models import load_model\n",
    "\n",
    "import numpy as np\n",
    "import pandas as pd\n",
    "import os"
   ]
  },
  {
   "cell_type": "code",
   "execution_count": 21,
   "metadata": {},
   "outputs": [],
   "source": [
    "def create_model():\n",
    "    X = 64  # Número de filtros en la primera capa convolucional\n",
    "    Y = 32  # Número de filtros en la segunda capa convolucional\n",
    "    Z = 64  # Número de nodos en la capa completamente conectada (FC)\n",
    "\n",
    "    model = models.Sequential([\n",
    "        # Primera capa convolucional\n",
    "        layers.Conv2D(X, (3, 3), activation='relu', input_shape=(28, 28, 1)),\n",
    "        layers.MaxPooling2D((2, 2)),\n",
    "\n",
    "        # Segunda capa convolucional\n",
    "        layers.Conv2D(Y, (3, 3), activation='relu'),\n",
    "        layers.MaxPooling2D((2, 2)),\n",
    "\n",
    "        # Aplanar el output para alimentar la capa densa\n",
    "        layers.Flatten(),\n",
    "\n",
    "        # Capa completamente conectada (FC)\n",
    "        layers.Dense(Z, activation='relu'),\n",
    "\n",
    "        # Capa de salida (Readout)\n",
    "        layers.Dense(10, activation='softmax')\n",
    "    ])\n",
    "    return model"
   ]
  },
  {
   "cell_type": "code",
   "execution_count": 22,
   "metadata": {},
   "outputs": [],
   "source": [
    "# Establecer el directorio de trabajo\n",
    "os.chdir('C:/Users/alber/OneDrive/Desktop/MatCAD/4t Curso/TFG')"
   ]
  },
  {
   "cell_type": "code",
   "execution_count": 23,
   "metadata": {},
   "outputs": [],
   "source": [
    "# Lista de pesos aplanados - CAPA 1\n",
    "all_weights_first_layer = pd.DataFrame()\n",
    "for i in range(10):\n",
    "    model = create_model()\n",
    "    model.load_weights(f'modelos_entrenados_1000_epoch/modelo_{i+1}.h5')\n",
    "    weights = model.layers[0].get_weights()[0]  # Obtener los pesos de la primera capa convolucional\n",
    "    # Centra en la media y normaliza\n",
    "    weights_mean_centered = weights - np.mean(weights)\n",
    "    weights_normalized = weights_mean_centered / np.linalg.norm(weights_mean_centered)\n",
    "    # Aplana los pesos\n",
    "    flattened_weights = weights.reshape(-1, weights.shape[-1])\n",
    "    df_weights = pd.DataFrame(flattened_weights).transpose()\n",
    "    all_weights_first_layer = pd.concat([all_weights_first_layer, df_weights], ignore_index=True)\n",
    "\n",
    "# Guarda el DataFrame en un archivo .csv\n",
    "all_weights_first_layer.to_csv('modelos_entrenados_1000_epoch/weights_first_layer_epoch_1000.csv', index=False, header=False)"
   ]
  },
  {
   "cell_type": "code",
   "execution_count": null,
   "metadata": {},
   "outputs": [],
   "source": []
  }
 ],
 "metadata": {
  "kernelspec": {
   "display_name": "Python 3 (ipykernel)",
   "language": "python",
   "name": "python3"
  },
  "language_info": {
   "codemirror_mode": {
    "name": "ipython",
    "version": 3
   },
   "file_extension": ".py",
   "mimetype": "text/x-python",
   "name": "python",
   "nbconvert_exporter": "python",
   "pygments_lexer": "ipython3",
   "version": "3.10.14"
  }
 },
 "nbformat": 4,
 "nbformat_minor": 4
}
