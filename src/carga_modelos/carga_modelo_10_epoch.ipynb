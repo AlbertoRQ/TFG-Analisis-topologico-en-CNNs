{
 "cells": [
  {
   "cell_type": "code",
   "execution_count": 1,
   "metadata": {},
   "outputs": [
    {
     "name": "stdout",
     "output_type": "stream",
     "text": [
      "WARNING:tensorflow:From c:\\ProgramData\\anaconda3\\envs\\Topo\\lib\\site-packages\\keras\\src\\losses.py:2976: The name tf.losses.sparse_softmax_cross_entropy is deprecated. Please use tf.compat.v1.losses.sparse_softmax_cross_entropy instead.\n",
      "\n"
     ]
    }
   ],
   "source": [
    "import pandas as pd\n",
    "import numpy as np\n",
    "from keras.models import load_model\n",
    "import os"
   ]
  },
  {
   "cell_type": "code",
   "execution_count": 2,
   "metadata": {},
   "outputs": [],
   "source": [
    "# Establecer el directorio de trabajo\n",
    "os.chdir('C:/Users/alber/OneDrive/Desktop/MatCAD/4t Curso/TFG')"
   ]
  },
  {
   "cell_type": "code",
   "execution_count": 3,
   "metadata": {},
   "outputs": [
    {
     "name": "stdout",
     "output_type": "stream",
     "text": [
      "WARNING:tensorflow:From c:\\ProgramData\\anaconda3\\envs\\Topo\\lib\\site-packages\\keras\\src\\backend.py:1398: The name tf.executing_eagerly_outside_functions is deprecated. Please use tf.compat.v1.executing_eagerly_outside_functions instead.\n",
      "\n",
      "WARNING:tensorflow:From c:\\ProgramData\\anaconda3\\envs\\Topo\\lib\\site-packages\\keras\\src\\layers\\pooling\\max_pooling2d.py:161: The name tf.nn.max_pool is deprecated. Please use tf.nn.max_pool2d instead.\n",
      "\n"
     ]
    }
   ],
   "source": [
    "# Lista de pesos aplanados - CAPA 1\n",
    "all_weights_first_layer = pd.DataFrame()\n",
    "for i in range(10):\n",
    "    model = load_model(f'modelos_entrenados_10_epoch\\modelo_{i+1}.h5')\n",
    "    weights = model.layers[0].get_weights()[0]  # Obtener los pesos\n",
    "    # Centra en la media y normaliza\n",
    "    weights_mean_centered = weights - np.mean(weights)\n",
    "    weights_normalized = weights_mean_centered / np.linalg.norm(weights_mean_centered)\n",
    "    # Aplana los pesos\n",
    "    flattened_weights = weights.reshape(-1, weights.shape[-1])\n",
    "    df_weights = pd.DataFrame(flattened_weights).transpose()\n",
    "    all_weights_first_layer = pd.concat([all_weights_first_layer, df_weights], ignore_index=True)\n",
    "\n",
    "# Guarda el DataFrame en un archivo .txt\n",
    "all_weights_first_layer.to_csv('modelos_entrenados_10_epoch\\weights_first_layer_epoch_10.csv', index=False, header=False)\n"
   ]
  },
  {
   "cell_type": "code",
   "execution_count": null,
   "metadata": {},
   "outputs": [],
   "source": []
  }
 ],
 "metadata": {
  "kernelspec": {
   "display_name": "Python 3 (ipykernel)",
   "language": "python",
   "name": "python3"
  },
  "language_info": {
   "codemirror_mode": {
    "name": "ipython",
    "version": 3
   },
   "file_extension": ".py",
   "mimetype": "text/x-python",
   "name": "python",
   "nbconvert_exporter": "python",
   "pygments_lexer": "ipython3",
   "version": "3.10.14"
  }
 },
 "nbformat": 4,
 "nbformat_minor": 4
}
